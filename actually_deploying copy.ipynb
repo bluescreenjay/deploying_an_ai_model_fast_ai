{
  "cells": [
    {
      "cell_type": "code",
      "execution_count": 6,
      "metadata": {
        "colab": {
          "base_uri": "https://localhost:8080/"
        },
        "id": "9nhWJNurUBFw",
        "outputId": "26fbaafe-151b-4281-9ed1-cea2ab0e16f8"
      },
      "outputs": [
        {
          "name": "stdout",
          "output_type": "stream",
          "text": [
            "Looking in indexes: https://pypi.org/simple, https://us-python.pkg.dev/colab-wheels/public/simple/\n",
            "Requirement already satisfied: voila in /usr/local/lib/python3.10/dist-packages (0.4.0)\n",
            "Requirement already satisfied: jupyter-client<=7.4.1,>=6.1.3 in /usr/local/lib/python3.10/dist-packages (from voila) (6.1.12)\n",
            "Requirement already satisfied: jupyter-core>=4.11.0 in /usr/local/lib/python3.10/dist-packages (from voila) (5.3.0)\n",
            "Requirement already satisfied: jupyter-server<2.0.0,>=1.18 in /usr/local/lib/python3.10/dist-packages (from voila) (1.24.0)\n",
            "Requirement already satisfied: jupyterlab-server<3,>=2.3.0 in /usr/local/lib/python3.10/dist-packages (from voila) (2.22.1)\n",
            "Requirement already satisfied: nbclient<0.8,>=0.4.0 in /usr/local/lib/python3.10/dist-packages (from voila) (0.7.4)\n",
            "Requirement already satisfied: nbconvert<8,>=6.4.5 in /usr/local/lib/python3.10/dist-packages (from voila) (6.5.4)\n",
            "Requirement already satisfied: traitlets<6,>=5.0.3 in /usr/local/lib/python3.10/dist-packages (from voila) (5.7.1)\n",
            "Requirement already satisfied: websockets>=9.0 in /usr/local/lib/python3.10/dist-packages (from voila) (11.0.3)\n",
            "Requirement already satisfied: pyzmq>=13 in /usr/local/lib/python3.10/dist-packages (from jupyter-client<=7.4.1,>=6.1.3->voila) (23.2.1)\n",
            "Requirement already satisfied: python-dateutil>=2.1 in /usr/local/lib/python3.10/dist-packages (from jupyter-client<=7.4.1,>=6.1.3->voila) (2.8.2)\n",
            "Requirement already satisfied: tornado>=4.1 in /usr/local/lib/python3.10/dist-packages (from jupyter-client<=7.4.1,>=6.1.3->voila) (6.3.1)\n",
            "Requirement already satisfied: platformdirs>=2.5 in /usr/local/lib/python3.10/dist-packages (from jupyter-core>=4.11.0->voila) (3.3.0)\n",
            "Requirement already satisfied: anyio<4,>=3.1.0 in /usr/local/lib/python3.10/dist-packages (from jupyter-server<2.0.0,>=1.18->voila) (3.6.2)\n",
            "Requirement already satisfied: argon2-cffi in /usr/local/lib/python3.10/dist-packages (from jupyter-server<2.0.0,>=1.18->voila) (21.3.0)\n",
            "Requirement already satisfied: jinja2 in /usr/local/lib/python3.10/dist-packages (from jupyter-server<2.0.0,>=1.18->voila) (3.1.2)\n",
            "Requirement already satisfied: nbformat>=5.2.0 in /usr/local/lib/python3.10/dist-packages (from jupyter-server<2.0.0,>=1.18->voila) (5.8.0)\n",
            "Requirement already satisfied: packaging in /usr/local/lib/python3.10/dist-packages (from jupyter-server<2.0.0,>=1.18->voila) (23.1)\n",
            "Requirement already satisfied: prometheus-client in /usr/local/lib/python3.10/dist-packages (from jupyter-server<2.0.0,>=1.18->voila) (0.16.0)\n",
            "Requirement already satisfied: Send2Trash in /usr/local/lib/python3.10/dist-packages (from jupyter-server<2.0.0,>=1.18->voila) (1.8.0)\n",
            "Requirement already satisfied: terminado>=0.8.3 in /usr/local/lib/python3.10/dist-packages (from jupyter-server<2.0.0,>=1.18->voila) (0.17.1)\n",
            "Requirement already satisfied: websocket-client in /usr/local/lib/python3.10/dist-packages (from jupyter-server<2.0.0,>=1.18->voila) (1.5.1)\n",
            "Requirement already satisfied: babel>=2.10 in /usr/local/lib/python3.10/dist-packages (from jupyterlab-server<3,>=2.3.0->voila) (2.12.1)\n",
            "Requirement already satisfied: json5>=0.9.0 in /usr/local/lib/python3.10/dist-packages (from jupyterlab-server<3,>=2.3.0->voila) (0.9.14)\n",
            "Requirement already satisfied: jsonschema>=4.17.3 in /usr/local/lib/python3.10/dist-packages (from jupyterlab-server<3,>=2.3.0->voila) (4.17.3)\n",
            "Requirement already satisfied: requests>=2.28 in /usr/local/lib/python3.10/dist-packages (from jupyterlab-server<3,>=2.3.0->voila) (2.31.0)\n",
            "Requirement already satisfied: lxml in /usr/local/lib/python3.10/dist-packages (from nbconvert<8,>=6.4.5->voila) (4.9.2)\n",
            "Requirement already satisfied: beautifulsoup4 in /usr/local/lib/python3.10/dist-packages (from nbconvert<8,>=6.4.5->voila) (4.11.2)\n",
            "Requirement already satisfied: bleach in /usr/local/lib/python3.10/dist-packages (from nbconvert<8,>=6.4.5->voila) (6.0.0)\n",
            "Requirement already satisfied: defusedxml in /usr/local/lib/python3.10/dist-packages (from nbconvert<8,>=6.4.5->voila) (0.7.1)\n",
            "Requirement already satisfied: entrypoints>=0.2.2 in /usr/local/lib/python3.10/dist-packages (from nbconvert<8,>=6.4.5->voila) (0.4)\n",
            "Requirement already satisfied: jupyterlab-pygments in /usr/local/lib/python3.10/dist-packages (from nbconvert<8,>=6.4.5->voila) (0.2.2)\n",
            "Requirement already satisfied: MarkupSafe>=2.0 in /usr/local/lib/python3.10/dist-packages (from nbconvert<8,>=6.4.5->voila) (2.1.2)\n",
            "Requirement already satisfied: mistune<2,>=0.8.1 in /usr/local/lib/python3.10/dist-packages (from nbconvert<8,>=6.4.5->voila) (0.8.4)\n",
            "Requirement already satisfied: pandocfilters>=1.4.1 in /usr/local/lib/python3.10/dist-packages (from nbconvert<8,>=6.4.5->voila) (1.5.0)\n",
            "Requirement already satisfied: pygments>=2.4.1 in /usr/local/lib/python3.10/dist-packages (from nbconvert<8,>=6.4.5->voila) (2.14.0)\n",
            "Requirement already satisfied: tinycss2 in /usr/local/lib/python3.10/dist-packages (from nbconvert<8,>=6.4.5->voila) (1.2.1)\n",
            "Requirement already satisfied: idna>=2.8 in /usr/local/lib/python3.10/dist-packages (from anyio<4,>=3.1.0->jupyter-server<2.0.0,>=1.18->voila) (3.4)\n",
            "Requirement already satisfied: sniffio>=1.1 in /usr/local/lib/python3.10/dist-packages (from anyio<4,>=3.1.0->jupyter-server<2.0.0,>=1.18->voila) (1.3.0)\n",
            "Requirement already satisfied: attrs>=17.4.0 in /usr/local/lib/python3.10/dist-packages (from jsonschema>=4.17.3->jupyterlab-server<3,>=2.3.0->voila) (23.1.0)\n",
            "Requirement already satisfied: pyrsistent!=0.17.0,!=0.17.1,!=0.17.2,>=0.14.0 in /usr/local/lib/python3.10/dist-packages (from jsonschema>=4.17.3->jupyterlab-server<3,>=2.3.0->voila) (0.19.3)\n",
            "Requirement already satisfied: fastjsonschema in /usr/local/lib/python3.10/dist-packages (from nbformat>=5.2.0->jupyter-server<2.0.0,>=1.18->voila) (2.16.3)\n",
            "Requirement already satisfied: six>=1.5 in /usr/local/lib/python3.10/dist-packages (from python-dateutil>=2.1->jupyter-client<=7.4.1,>=6.1.3->voila) (1.16.0)\n",
            "Requirement already satisfied: charset-normalizer<4,>=2 in /usr/local/lib/python3.10/dist-packages (from requests>=2.28->jupyterlab-server<3,>=2.3.0->voila) (2.0.12)\n",
            "Requirement already satisfied: urllib3<3,>=1.21.1 in /usr/local/lib/python3.10/dist-packages (from requests>=2.28->jupyterlab-server<3,>=2.3.0->voila) (1.26.15)\n",
            "Requirement already satisfied: certifi>=2017.4.17 in /usr/local/lib/python3.10/dist-packages (from requests>=2.28->jupyterlab-server<3,>=2.3.0->voila) (2022.12.7)\n",
            "Requirement already satisfied: ptyprocess in /usr/local/lib/python3.10/dist-packages (from terminado>=0.8.3->jupyter-server<2.0.0,>=1.18->voila) (0.7.0)\n",
            "Requirement already satisfied: argon2-cffi-bindings in /usr/local/lib/python3.10/dist-packages (from argon2-cffi->jupyter-server<2.0.0,>=1.18->voila) (21.2.0)\n",
            "Requirement already satisfied: soupsieve>1.2 in /usr/local/lib/python3.10/dist-packages (from beautifulsoup4->nbconvert<8,>=6.4.5->voila) (2.4.1)\n",
            "Requirement already satisfied: webencodings in /usr/local/lib/python3.10/dist-packages (from bleach->nbconvert<8,>=6.4.5->voila) (0.5.1)\n",
            "Requirement already satisfied: cffi>=1.0.1 in /usr/local/lib/python3.10/dist-packages (from argon2-cffi-bindings->argon2-cffi->jupyter-server<2.0.0,>=1.18->voila) (1.15.1)\n",
            "Requirement already satisfied: pycparser in /usr/local/lib/python3.10/dist-packages (from cffi>=1.0.1->argon2-cffi-bindings->argon2-cffi->jupyter-server<2.0.0,>=1.18->voila) (2.21)\n",
            "Enabling: voila\n",
            "- Writing config: /usr/etc/jupyter\n",
            "    - Validating...\n",
            "      voila 0.4.0 \u001b[32mOK\u001b[0m\n"
          ]
        }
      ],
      "source": [
        "# Check if enabling is needed\n",
        "#!pip install voila\n",
        "#!jupyter serverextension enable --sys-prefix voila "
      ]
    },
    {
      "cell_type": "code",
      "execution_count": 12,
      "metadata": {
        "id": "VGFOCq4jUIva"
      },
      "outputs": [],
      "source": [
        "from fastai.vision.all import *\n",
        "from fastai.vision.widgets import *"
      ]
    },
    {
      "attachments": {},
      "cell_type": "markdown",
      "metadata": {
        "id": "j18xBk5_VX_-"
      },
      "source": [
        "Welcome to our mushroom classifier! This mushroom can help you decide whether that fun mushroom you're trying to forage is a morel, chanterelle, or giant puffball mushroom. "
      ]
    },
    {
      "cell_type": "code",
      "execution_count": null,
      "metadata": {},
      "outputs": [],
      "source": []
    },
    {
      "cell_type": "code",
      "execution_count": 13,
      "metadata": {
        "id": "s8wKbY-7UbEh"
      },
      "outputs": [],
      "source": [
        "path = Path()\n",
        "learn_inf = load_learner(path/'export.pkl', cpu=True)\n",
        "btn_upload = widgets.FileUpload()\n",
        "out_pl = widgets.Output()\n",
        "lbl_pred = widgets.Label()"
      ]
    },
    {
      "cell_type": "code",
      "execution_count": 14,
      "metadata": {
        "id": "LHr4fzgcUc0V"
      },
      "outputs": [],
      "source": [
        "btn_upload = widgets.FileUpload()\n",
        "out_pl = widgets.Output()\n",
        "lbl_pred = widgets.Label()\n",
        "\n",
        "def on_click(change):\n",
        "    img = PILImage.create(btn_upload.data[-1])\n",
        "    out_pl.clear_output()\n",
        "    with out_pl: display(img.to_thumb(128,128))\n",
        "    pred,pred_idx,probs = learn_inf.predict(img)\n",
        "    lbl_pred.value = f'Prediction: {pred}; Probability: {probs[pred_idx]:.04f}'\n",
        "\n",
        "btn_upload.observe(on_click,names=['data'])\n",
        "\n",
        "desLbl = widgets.Label('Select Your Mushroom')\n",
        "\n",
        "display(VBox([desLbl, \n",
        "      btn_upload, out_pl, lbl_pred]))"
      ]
    },
    {
      "cell_type": "code",
      "execution_count": 15,
      "metadata": {
        "id": "l4HKwwiRUf8R"
      },
      "outputs": [],
      "source": [
        "#btn_upload.observe(on_data_change, names=['data'])"
      ]
    },
    {
      "cell_type": "code",
      "execution_count": 16,
      "metadata": {
        "colab": {
          "base_uri": "https://localhost:8080/",
          "height": 210,
          "referenced_widgets": [
            "0b6194c778704da28bbfefe1ad512fd9",
            "728ce8f6b18d409a982ceedfe75addd2",
            "05c9fb04cefd4b8091b9e3754138db94",
            "cf2b3d8c684c4955a863f8300957f06d",
            "a6de5c8d903245f5b8d523599549a027",
            "7bc74a86034b4d66b9ab23485dbda50c",
            "8941f70e22034fc8b10f6180f414c4f1",
            "51e7359359cd4bffbc9f5efbdb148296",
            "e7a13f3f444f43029f15a790df93c637",
            "4120e25a1d9043f79c14a59dee02d334",
            "c7dcc1a9136b42d294add20d25b4d856",
            "c9a022dfc0424c49bfa4565857feb9be",
            "18d3c35f53204595b21ae189138b63d3"
          ]
        },
        "id": "GMlijOS8UiPZ",
        "outputId": "64370d07-1ad6-4a16-b525-d82bd42581ca"
      },
      "outputs": [
        {
          "data": {
            "application/vnd.jupyter.widget-view+json": {
              "model_id": "0b6194c778704da28bbfefe1ad512fd9",
              "version_major": 2,
              "version_minor": 0
            },
            "text/plain": [
              "VBox(children=(Label(value='Select your mushroom!'), FileUpload(value={}, description='Upload'), Output(), Lab…"
            ]
          },
          "metadata": {},
          "output_type": "display_data"
        },
        {
          "data": {
            "text/html": [
              "\n",
              "<style>\n",
              "    /* Turns off some styling */\n",
              "    progress {\n",
              "        /* gets rid of default border in Firefox and Opera. */\n",
              "        border: none;\n",
              "        /* Needs to be in here for Safari polyfill so background images work as expected. */\n",
              "        background-size: auto;\n",
              "    }\n",
              "    progress:not([value]), progress:not([value])::-webkit-progress-bar {\n",
              "        background: repeating-linear-gradient(45deg, #7e7e7e, #7e7e7e 10px, #5c5c5c 10px, #5c5c5c 20px);\n",
              "    }\n",
              "    .progress-bar-interrupted, .progress-bar-interrupted::-webkit-progress-bar {\n",
              "        background: #F44336;\n",
              "    }\n",
              "</style>\n"
            ],
            "text/plain": [
              "<IPython.core.display.HTML object>"
            ]
          },
          "metadata": {},
          "output_type": "display_data"
        },
        {
          "data": {
            "text/html": [],
            "text/plain": [
              "<IPython.core.display.HTML object>"
            ]
          },
          "metadata": {},
          "output_type": "display_data"
        }
      ],
      "source": [
        "#display(VBox([widgets.Label('Select your mushroom!'), btn_upload, out_pl, lbl_pred]))"
      ]
    },
    {
      "cell_type": "code",
      "execution_count": 11,
      "metadata": {
        "id": "SBCsY0LMUkWW"
      },
      "outputs": [],
      "source": []
    }
  ],
  "metadata": {
    "colab": {
      "provenance": []
    },
    "kernelspec": {
      "display_name": "Python 3",
      "name": "python3"
    },
    "language_info": {
      "name": "python"
    },
    "widgets": {
      "application/vnd.jupyter.widget-state+json": {
        "05c9fb04cefd4b8091b9e3754138db94": {
          "model_module": "@jupyter-widgets/controls",
          "model_module_version": "1.5.0",
          "model_name": "FileUploadModel",
          "state": {
            "_counter": 1,
            "_dom_classes": [],
            "_model_module": "@jupyter-widgets/controls",
            "_model_module_version": "1.5.0",
            "_model_name": "FileUploadModel",
            "_view_count": null,
            "_view_module": "@jupyter-widgets/controls",
            "_view_module_version": "1.5.0",
            "_view_name": "FileUploadView",
            "accept": "",
            "button_style": "",
            "data": [
              null
            ],
            "description": "Upload",
            "description_tooltip": null,
            "disabled": false,
            "error": "",
            "icon": "upload",
            "layout": "IPY_MODEL_e7a13f3f444f43029f15a790df93c637",
            "metadata": [
              {
                "lastModified": 1686437724843,
                "name": "aaaaaagiantpuff.png",
                "size": 562599,
                "type": "image/png"
              }
            ],
            "multiple": false,
            "style": "IPY_MODEL_4120e25a1d9043f79c14a59dee02d334"
          }
        },
        "0b6194c778704da28bbfefe1ad512fd9": {
          "model_module": "@jupyter-widgets/controls",
          "model_module_version": "1.5.0",
          "model_name": "VBoxModel",
          "state": {
            "_dom_classes": [],
            "_model_module": "@jupyter-widgets/controls",
            "_model_module_version": "1.5.0",
            "_model_name": "VBoxModel",
            "_view_count": null,
            "_view_module": "@jupyter-widgets/controls",
            "_view_module_version": "1.5.0",
            "_view_name": "VBoxView",
            "box_style": "",
            "children": [
              "IPY_MODEL_728ce8f6b18d409a982ceedfe75addd2",
              "IPY_MODEL_05c9fb04cefd4b8091b9e3754138db94",
              "IPY_MODEL_cf2b3d8c684c4955a863f8300957f06d",
              "IPY_MODEL_a6de5c8d903245f5b8d523599549a027"
            ],
            "layout": "IPY_MODEL_7bc74a86034b4d66b9ab23485dbda50c"
          }
        },
        "18d3c35f53204595b21ae189138b63d3": {
          "model_module": "@jupyter-widgets/base",
          "model_module_version": "1.2.0",
          "model_name": "LayoutModel",
          "state": {
            "_model_module": "@jupyter-widgets/base",
            "_model_module_version": "1.2.0",
            "_model_name": "LayoutModel",
            "_view_count": null,
            "_view_module": "@jupyter-widgets/base",
            "_view_module_version": "1.2.0",
            "_view_name": "LayoutView",
            "align_content": null,
            "align_items": null,
            "align_self": null,
            "border": null,
            "bottom": null,
            "display": null,
            "flex": null,
            "flex_flow": null,
            "grid_area": null,
            "grid_auto_columns": null,
            "grid_auto_flow": null,
            "grid_auto_rows": null,
            "grid_column": null,
            "grid_gap": null,
            "grid_row": null,
            "grid_template_areas": null,
            "grid_template_columns": null,
            "grid_template_rows": null,
            "height": null,
            "justify_content": null,
            "justify_items": null,
            "left": null,
            "margin": null,
            "max_height": null,
            "max_width": null,
            "min_height": null,
            "min_width": null,
            "object_fit": null,
            "object_position": null,
            "order": null,
            "overflow": null,
            "overflow_x": null,
            "overflow_y": null,
            "padding": null,
            "right": null,
            "top": null,
            "visibility": null,
            "width": null
          }
        },
        "4120e25a1d9043f79c14a59dee02d334": {
          "model_module": "@jupyter-widgets/controls",
          "model_module_version": "1.5.0",
          "model_name": "ButtonStyleModel",
          "state": {
            "_model_module": "@jupyter-widgets/controls",
            "_model_module_version": "1.5.0",
            "_model_name": "ButtonStyleModel",
            "_view_count": null,
            "_view_module": "@jupyter-widgets/base",
            "_view_module_version": "1.2.0",
            "_view_name": "StyleView",
            "button_color": null,
            "font_weight": ""
          }
        },
        "51e7359359cd4bffbc9f5efbdb148296": {
          "model_module": "@jupyter-widgets/controls",
          "model_module_version": "1.5.0",
          "model_name": "DescriptionStyleModel",
          "state": {
            "_model_module": "@jupyter-widgets/controls",
            "_model_module_version": "1.5.0",
            "_model_name": "DescriptionStyleModel",
            "_view_count": null,
            "_view_module": "@jupyter-widgets/base",
            "_view_module_version": "1.2.0",
            "_view_name": "StyleView",
            "description_width": ""
          }
        },
        "728ce8f6b18d409a982ceedfe75addd2": {
          "model_module": "@jupyter-widgets/controls",
          "model_module_version": "1.5.0",
          "model_name": "LabelModel",
          "state": {
            "_dom_classes": [],
            "_model_module": "@jupyter-widgets/controls",
            "_model_module_version": "1.5.0",
            "_model_name": "LabelModel",
            "_view_count": null,
            "_view_module": "@jupyter-widgets/controls",
            "_view_module_version": "1.5.0",
            "_view_name": "LabelView",
            "description": "",
            "description_tooltip": null,
            "layout": "IPY_MODEL_8941f70e22034fc8b10f6180f414c4f1",
            "placeholder": "​",
            "style": "IPY_MODEL_51e7359359cd4bffbc9f5efbdb148296",
            "value": "Select your mushroom!"
          }
        },
        "7bc74a86034b4d66b9ab23485dbda50c": {
          "model_module": "@jupyter-widgets/base",
          "model_module_version": "1.2.0",
          "model_name": "LayoutModel",
          "state": {
            "_model_module": "@jupyter-widgets/base",
            "_model_module_version": "1.2.0",
            "_model_name": "LayoutModel",
            "_view_count": null,
            "_view_module": "@jupyter-widgets/base",
            "_view_module_version": "1.2.0",
            "_view_name": "LayoutView",
            "align_content": null,
            "align_items": null,
            "align_self": null,
            "border": null,
            "bottom": null,
            "display": null,
            "flex": null,
            "flex_flow": null,
            "grid_area": null,
            "grid_auto_columns": null,
            "grid_auto_flow": null,
            "grid_auto_rows": null,
            "grid_column": null,
            "grid_gap": null,
            "grid_row": null,
            "grid_template_areas": null,
            "grid_template_columns": null,
            "grid_template_rows": null,
            "height": null,
            "justify_content": null,
            "justify_items": null,
            "left": null,
            "margin": null,
            "max_height": null,
            "max_width": null,
            "min_height": null,
            "min_width": null,
            "object_fit": null,
            "object_position": null,
            "order": null,
            "overflow": null,
            "overflow_x": null,
            "overflow_y": null,
            "padding": null,
            "right": null,
            "top": null,
            "visibility": null,
            "width": null
          }
        },
        "8941f70e22034fc8b10f6180f414c4f1": {
          "model_module": "@jupyter-widgets/base",
          "model_module_version": "1.2.0",
          "model_name": "LayoutModel",
          "state": {
            "_model_module": "@jupyter-widgets/base",
            "_model_module_version": "1.2.0",
            "_model_name": "LayoutModel",
            "_view_count": null,
            "_view_module": "@jupyter-widgets/base",
            "_view_module_version": "1.2.0",
            "_view_name": "LayoutView",
            "align_content": null,
            "align_items": null,
            "align_self": null,
            "border": null,
            "bottom": null,
            "display": null,
            "flex": null,
            "flex_flow": null,
            "grid_area": null,
            "grid_auto_columns": null,
            "grid_auto_flow": null,
            "grid_auto_rows": null,
            "grid_column": null,
            "grid_gap": null,
            "grid_row": null,
            "grid_template_areas": null,
            "grid_template_columns": null,
            "grid_template_rows": null,
            "height": null,
            "justify_content": null,
            "justify_items": null,
            "left": null,
            "margin": null,
            "max_height": null,
            "max_width": null,
            "min_height": null,
            "min_width": null,
            "object_fit": null,
            "object_position": null,
            "order": null,
            "overflow": null,
            "overflow_x": null,
            "overflow_y": null,
            "padding": null,
            "right": null,
            "top": null,
            "visibility": null,
            "width": null
          }
        },
        "a6de5c8d903245f5b8d523599549a027": {
          "model_module": "@jupyter-widgets/controls",
          "model_module_version": "1.5.0",
          "model_name": "LabelModel",
          "state": {
            "_dom_classes": [],
            "_model_module": "@jupyter-widgets/controls",
            "_model_module_version": "1.5.0",
            "_model_name": "LabelModel",
            "_view_count": null,
            "_view_module": "@jupyter-widgets/controls",
            "_view_module_version": "1.5.0",
            "_view_name": "LabelView",
            "description": "",
            "description_tooltip": null,
            "layout": "IPY_MODEL_c7dcc1a9136b42d294add20d25b4d856",
            "placeholder": "​",
            "style": "IPY_MODEL_c9a022dfc0424c49bfa4565857feb9be",
            "value": "Prediction: giant puffball; Probability: 1.0000"
          }
        },
        "c7dcc1a9136b42d294add20d25b4d856": {
          "model_module": "@jupyter-widgets/base",
          "model_module_version": "1.2.0",
          "model_name": "LayoutModel",
          "state": {
            "_model_module": "@jupyter-widgets/base",
            "_model_module_version": "1.2.0",
            "_model_name": "LayoutModel",
            "_view_count": null,
            "_view_module": "@jupyter-widgets/base",
            "_view_module_version": "1.2.0",
            "_view_name": "LayoutView",
            "align_content": null,
            "align_items": null,
            "align_self": null,
            "border": null,
            "bottom": null,
            "display": null,
            "flex": null,
            "flex_flow": null,
            "grid_area": null,
            "grid_auto_columns": null,
            "grid_auto_flow": null,
            "grid_auto_rows": null,
            "grid_column": null,
            "grid_gap": null,
            "grid_row": null,
            "grid_template_areas": null,
            "grid_template_columns": null,
            "grid_template_rows": null,
            "height": null,
            "justify_content": null,
            "justify_items": null,
            "left": null,
            "margin": null,
            "max_height": null,
            "max_width": null,
            "min_height": null,
            "min_width": null,
            "object_fit": null,
            "object_position": null,
            "order": null,
            "overflow": null,
            "overflow_x": null,
            "overflow_y": null,
            "padding": null,
            "right": null,
            "top": null,
            "visibility": null,
            "width": null
          }
        },
        "c9a022dfc0424c49bfa4565857feb9be": {
          "model_module": "@jupyter-widgets/controls",
          "model_module_version": "1.5.0",
          "model_name": "DescriptionStyleModel",
          "state": {
            "_model_module": "@jupyter-widgets/controls",
            "_model_module_version": "1.5.0",
            "_model_name": "DescriptionStyleModel",
            "_view_count": null,
            "_view_module": "@jupyter-widgets/base",
            "_view_module_version": "1.2.0",
            "_view_name": "StyleView",
            "description_width": ""
          }
        },
        "cf2b3d8c684c4955a863f8300957f06d": {
          "model_module": "@jupyter-widgets/output",
          "model_module_version": "1.0.0",
          "model_name": "OutputModel",
          "state": {
            "_dom_classes": [],
            "_model_module": "@jupyter-widgets/output",
            "_model_module_version": "1.0.0",
            "_model_name": "OutputModel",
            "_view_count": null,
            "_view_module": "@jupyter-widgets/output",
            "_view_module_version": "1.0.0",
            "_view_name": "OutputView",
            "layout": "IPY_MODEL_18d3c35f53204595b21ae189138b63d3",
            "msg_id": "",
            "outputs": [
              {
                "data": {
                  "image/png": "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\n",
                  "text/plain": "<PIL.Image.Image image mode=RGB size=128x97>"
                },
                "metadata": {},
                "output_type": "display_data"
              }
            ]
          }
        },
        "e7a13f3f444f43029f15a790df93c637": {
          "model_module": "@jupyter-widgets/base",
          "model_module_version": "1.2.0",
          "model_name": "LayoutModel",
          "state": {
            "_model_module": "@jupyter-widgets/base",
            "_model_module_version": "1.2.0",
            "_model_name": "LayoutModel",
            "_view_count": null,
            "_view_module": "@jupyter-widgets/base",
            "_view_module_version": "1.2.0",
            "_view_name": "LayoutView",
            "align_content": null,
            "align_items": null,
            "align_self": null,
            "border": null,
            "bottom": null,
            "display": null,
            "flex": null,
            "flex_flow": null,
            "grid_area": null,
            "grid_auto_columns": null,
            "grid_auto_flow": null,
            "grid_auto_rows": null,
            "grid_column": null,
            "grid_gap": null,
            "grid_row": null,
            "grid_template_areas": null,
            "grid_template_columns": null,
            "grid_template_rows": null,
            "height": null,
            "justify_content": null,
            "justify_items": null,
            "left": null,
            "margin": null,
            "max_height": null,
            "max_width": null,
            "min_height": null,
            "min_width": null,
            "object_fit": null,
            "object_position": null,
            "order": null,
            "overflow": null,
            "overflow_x": null,
            "overflow_y": null,
            "padding": null,
            "right": null,
            "top": null,
            "visibility": null,
            "width": null
          }
        }
      }
    }
  },
  "nbformat": 4,
  "nbformat_minor": 0
}
